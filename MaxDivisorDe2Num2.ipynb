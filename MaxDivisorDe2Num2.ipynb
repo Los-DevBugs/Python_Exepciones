{
  "nbformat": 4,
  "nbformat_minor": 0,
  "metadata": {
    "colab": {
      "provenance": []
    },
    "kernelspec": {
      "name": "python3",
      "display_name": "Python 3"
    },
    "language_info": {
      "name": "python"
    }
  },
  "cells": [
    {
      "cell_type": "markdown",
      "source": [
        "Modifique la aplicación para que en el ingreso de datos se ingrese un número entero caso contrario solicite un nuevo ingreso hasta que se cumpla con el requerimiento."
      ],
      "metadata": {
        "id": "TpONWjnMpB77"
      }
    },
    {
      "cell_type": "code",
      "execution_count": 9,
      "metadata": {
        "colab": {
          "base_uri": "https://localhost:8080/"
        },
        "id": "iYbB-WUJo2nw",
        "outputId": "c140c840-bad5-4581-8a85-49b1ee60b723"
      },
      "outputs": [
        {
          "output_type": "stream",
          "name": "stdout",
          "text": [
            "Ingrese el primer número natural: a\n",
            "Error: Por favor ingrese un número natural\n",
            "Ingrese el primer número natural: -5\n",
            "Por favor ingrese un número natural, positivo válido.\n",
            "Ingrese el primer número natural: asc\n",
            "Error: Por favor ingrese un número natural\n",
            "Ingrese el primer número natural: 2\n",
            "Ingrese el segundo número natural: 4\n",
            "El máximo común divisor de 2 y 4 es: 2\n"
          ]
        }
      ],
      "source": [
        "def mcd(a, b):\n",
        "\n",
        "    while b != 0:\n",
        "        a, b = b, a % b\n",
        "    return a\n",
        "\n",
        "def ingresar_numero(mensaje):\n",
        "    while True:\n",
        "      try:\n",
        "        numero = int(input(mensaje))\n",
        "        if numero > 0:\n",
        "            return numero\n",
        "        else:\n",
        "            print(\"Por favor ingrese un número natural, positivo válido.\")\n",
        "      except ValueError as e:\n",
        "        print(f\"Error: Por favor ingrese un número natural.\")\n",
        "\n",
        "num1 = ingresar_numero(\"Ingrese el primer número natural: \")\n",
        "num2 = ingresar_numero(\"Ingrese el segundo número natural: \")\n",
        "\n",
        "resultado = mcd(num1, num2)\n",
        "print(f\"El máximo común divisor de {num1} y {num2} es: {resultado}\")\n"
      ]
    },
    {
      "cell_type": "markdown",
      "source": [],
      "metadata": {
        "id": "EaWmqzuxpCkU"
      }
    }
  ]
}